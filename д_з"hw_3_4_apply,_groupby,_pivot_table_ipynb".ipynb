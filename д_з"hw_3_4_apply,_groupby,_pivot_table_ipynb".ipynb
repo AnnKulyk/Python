{
  "nbformat": 4,
  "nbformat_minor": 0,
  "metadata": {
    "colab": {
      "provenance": [],
      "include_colab_link": true
    },
    "kernelspec": {
      "name": "python3",
      "display_name": "Python 3"
    },
    "language_info": {
      "name": "python"
    }
  },
  "cells": [
    {
      "cell_type": "markdown",
      "metadata": {
        "id": "view-in-github",
        "colab_type": "text"
      },
      "source": [
        "<a href=\"https://colab.research.google.com/github/AnnKulyk/Python/blob/main/%D0%B4_%D0%B7%22hw_3_4_apply%2C_groupby%2C_pivot_table_ipynb%22.ipynb\" target=\"_parent\"><img src=\"https://colab.research.google.com/assets/colab-badge.svg\" alt=\"Open In Colab\"/></a>"
      ]
    },
    {
      "cell_type": "markdown",
      "source": [
        "#Домашнє завдання до тем apply(), groupby(), pivot_table()"
      ],
      "metadata": {
        "id": "LwNpAFw_eTF3"
      }
    },
    {
      "cell_type": "markdown",
      "source": [
        "В цьому домашньому завданні продовжуємо працювати з набором даних `supermarket_sales.csv`."
      ],
      "metadata": {
        "id": "vP2PEJyq8Yrj"
      }
    },
    {
      "cell_type": "markdown",
      "source": [
        "0. Імпортуйте бібліотеку pandas та зчитайте дані у змінну `df` типу `pandas.DataFrame`."
      ],
      "metadata": {
        "id": "dh9lfpDb8gBL"
      }
    },
    {
      "cell_type": "code",
      "source": [
        "import pandas as pd"
      ],
      "metadata": {
        "id": "xBI9gJMK8qnl"
      },
      "execution_count": 1,
      "outputs": []
    },
    {
      "cell_type": "code",
      "source": [
        "from google.colab import drive\n",
        "drive.mount('/content/drive')"
      ],
      "metadata": {
        "id": "ccgcdTjjJSiP",
        "outputId": "cd6f46fe-4d81-44d9-d131-3cc85c126ad6",
        "colab": {
          "base_uri": "https://localhost:8080/"
        }
      },
      "execution_count": 2,
      "outputs": [
        {
          "output_type": "stream",
          "name": "stdout",
          "text": [
            "Mounted at /content/drive\n"
          ]
        }
      ]
    },
    {
      "cell_type": "code",
      "source": [
        "df=pd.read_csv(\"/content/drive/MyDrive/data/supermarket_sales.csv\")"
      ],
      "metadata": {
        "id": "M0XQpU40Ji6K"
      },
      "execution_count": 3,
      "outputs": []
    },
    {
      "cell_type": "markdown",
      "metadata": {
        "id": "28638363"
      },
      "source": [
        "1. Дослідимо, який філіал супермаркету ('Branch') є найприбутковішим. Для цього знайдіть сумарний прибуток за кожним філіалом і виявіть, який філіал має найвищий."
      ]
    },
    {
      "cell_type": "code",
      "execution_count": 4,
      "metadata": {
        "ExecuteTime": {
          "end_time": "2022-11-01T17:27:42.023877Z",
          "start_time": "2022-11-01T17:27:42.020277Z"
        },
        "id": "916d731d",
        "outputId": "bb15ce04-263e-4792-f6d6-cb0d26d7c3d0",
        "colab": {
          "base_uri": "https://localhost:8080/"
        }
      },
      "outputs": [
        {
          "output_type": "stream",
          "name": "stdout",
          "text": [
            "Branch\n",
            "A    5057.1605\n",
            "B    5057.0320\n",
            "C    5265.1765\n",
            "Name: gross income, dtype: float64\n"
          ]
        }
      ],
      "source": [
        "branch=df.groupby(by='Branch') [\"gross income\"].sum()\n",
        "print(branch)"
      ]
    },
    {
      "cell_type": "code",
      "source": [
        "# найприбутковіший філіал\n",
        "most_profitable_branch = branch.idxmax()\n",
        "max_profit = branch.max()\n",
        "\n",
        "print(f\"\\nНайприбутковіший філіал: {most_profitable_branch} з прибутком {max_profit:.2f}\")"
      ],
      "metadata": {
        "id": "oOZ4mJf5Mg4y",
        "outputId": "41fbfec3-a5b6-420f-d739-e2c3844e827d",
        "colab": {
          "base_uri": "https://localhost:8080/"
        }
      },
      "execution_count": 5,
      "outputs": [
        {
          "output_type": "stream",
          "name": "stdout",
          "text": [
            "\n",
            "Найприбутковіший філіал: C з прибутком 5265.18\n"
          ]
        }
      ]
    },
    {
      "cell_type": "markdown",
      "source": [
        "2. В якому місті знайходиться філіал з найвищим прибутком? Може в тому місці нам розмітисти ще один магазин.  \n",
        "Знайдіть відповідь за допомогою функціоналу Pandas."
      ],
      "metadata": {
        "id": "2qL_OddUCZKK"
      }
    },
    {
      "cell_type": "code",
      "source": [
        "city = df.groupby('City')['gross income'].sum()\n",
        "print(city)\n",
        "most_profitable_city = city.idxmax()\n",
        "max_profit = city.max()\n",
        "\n",
        "print(f\"\\nНайприбутковіше місто: {most_profitable_city} з прибутком {max_profit:.2f}\")"
      ],
      "metadata": {
        "id": "bBJUc1dWCwdi",
        "outputId": "9e9969e1-1e72-44e4-b684-072f38468b9e",
        "colab": {
          "base_uri": "https://localhost:8080/"
        }
      },
      "execution_count": 6,
      "outputs": [
        {
          "output_type": "stream",
          "name": "stdout",
          "text": [
            "City\n",
            "Mandalay     5057.0320\n",
            "Naypyitaw    5265.1765\n",
            "Yangon       5057.1605\n",
            "Name: gross income, dtype: float64\n",
            "\n",
            "Найприбутковіше місто: Naypyitaw з прибутком 5265.18\n"
          ]
        }
      ]
    },
    {
      "cell_type": "markdown",
      "metadata": {
        "id": "6dec795f"
      },
      "source": [
        "3.1. Створіть зводну таблицю, яка покаже, скільки покупок (інвойсів) було зроблено в кожній з філій (`Branch`) за різними категоріями товарів. Запишіть таблицю в змінну `invoices_by_category` і виведіть змінну на екран.\n",
        "Ця таблиця допоможе проаналізувати, в якій філії купують найбільше товарів кожної з категорій."
      ]
    },
    {
      "cell_type": "code",
      "source": [],
      "metadata": {
        "id": "N7TfUBf4ZrkX"
      },
      "execution_count": 6,
      "outputs": []
    },
    {
      "cell_type": "markdown",
      "metadata": {
        "ExecuteTime": {
          "end_time": "2022-11-01T16:50:46.961201Z",
          "start_time": "2022-11-01T16:50:46.955894Z"
        },
        "id": "f5bbfa34"
      },
      "source": [
        "Очікуваний результат:"
      ]
    },
    {
      "cell_type": "markdown",
      "metadata": {
        "id": "34b9bcdc"
      },
      "source": [
        "![](https://drive.google.com/uc?export=view&id=1rueAdko6S3UxIHGtojetTxlES-EyM6Yb)"
      ]
    },
    {
      "cell_type": "markdown",
      "source": [
        "3.2. Викристовуючи змінну `invoices_by_category` дайте відповідь програмно (тобто значення треба не просто знайти очима, а вивести за допомогою коду), в якому філіалі магазину (`Branch`) найбільше інвойсів із покупкою товарів категорії \"Електронні аксесуари\" (`Electronic accessories`)?\n"
      ],
      "metadata": {
        "id": "woygDEA0OSwJ"
      }
    },
    {
      "cell_type": "code",
      "source": [
        "invoices_by_category = df.pivot_table(\n",
        "    index='Branch',\n",
        "    columns='Product line',\n",
        "    values='Invoice ID',\n",
        "    aggfunc='count',\n",
        "    fill_value=0\n",
        ")\n",
        "print(invoices_by_category.reset_index().to_string(index=False))"
      ],
      "metadata": {
        "id": "HFSzyZPSQe5h",
        "outputId": "258366e5-0517-4290-85cd-d4b067ebc71b",
        "colab": {
          "base_uri": "https://localhost:8080/"
        }
      },
      "execution_count": 7,
      "outputs": [
        {
          "output_type": "stream",
          "name": "stdout",
          "text": [
            "Branch  Electronic accessories  Fashion accessories  Food and beverages  Health and beauty  Home and lifestyle  Sports and travel\n",
            "     A                      60                   51                  58                 47                  65                 59\n",
            "     B                      55                   62                  50                 53                  50                 62\n",
            "     C                      55                   65                  66                 52                  45                 45\n"
          ]
        }
      ]
    },
    {
      "cell_type": "markdown",
      "metadata": {
        "ExecuteTime": {
          "end_time": "2022-11-01T17:56:02.981755Z",
          "start_time": "2022-11-01T17:56:02.977086Z"
        },
        "id": "d005a2b8"
      },
      "source": [
        "4-6. **Творче завдання на розвиток аналітичного мислення**\n",
        "\n",
        "Крок 1. Сформулюйте ТРИ питання (гіпотези) до наявних даних, які допомогли б вам зрозуміти, які користувачі що, де та коли найбільше/найменше купують, аби дати на основі цих гіпотез рекомендації бізнесу. Звісно питання мають бути не тими, на які ми вже відповіли в завданнях модулю.\n",
        "\n",
        "Крок 2. Знайдіть відповіді на свої питання з допомогою функціоналу pandas.\n",
        "\n",
        "Крок 3. Напишіть, як відповідь на це питання може бути використана для прийняття бізнес рішень.   \n",
        "   \n",
        " Питання можуть бути будь-якої складності, але їх має бути 3. Кожне питання оцінюється як 1 завдання. Без виконання цього завдання ДЗ не приймається. Якщо є питання щодо виконання - пишіть у чат 🙌\n"
      ]
    },
    {
      "cell_type": "code",
      "source": [
        "# кількість покупок для кожної статі та категорії товарів\n",
        "product_gender_counts = df.groupby(['Gender', 'Product line'])['Invoice ID'].count().unstack()\n",
        "print(product_gender_counts)"
      ],
      "metadata": {
        "id": "cM3cApWSZuRX",
        "colab": {
          "base_uri": "https://localhost:8080/"
        },
        "outputId": "86db0ff4-4225-4df7-8176-e8d76461ecc0"
      },
      "execution_count": 10,
      "outputs": [
        {
          "output_type": "stream",
          "name": "stdout",
          "text": [
            "Product line  Electronic accessories  Fashion accessories  Food and beverages  \\\n",
            "Gender                                                                          \n",
            "Female                            84                   96                  90   \n",
            "Male                              86                   82                  84   \n",
            "\n",
            "Product line  Health and beauty  Home and lifestyle  Sports and travel  \n",
            "Gender                                                                  \n",
            "Female                       64                  79                 88  \n",
            "Male                         88                  81                 78  \n"
          ]
        }
      ]
    },
    {
      "cell_type": "code",
      "source": [
        "most_bought_by_female = product_gender_counts.loc['Female'].idxmax()\n",
        "most_bought_by_male = product_gender_counts.loc['Male'].idxmax()\n",
        "print(f\"Жінки найчастіше купують: {most_bought_by_female}\")\n",
        "print(f\"Чоловіки найчастіше купують: {most_bought_by_male}\")"
      ],
      "metadata": {
        "colab": {
          "base_uri": "https://localhost:8080/"
        },
        "id": "pgqzZRtzWyvc",
        "outputId": "cc5da185-d623-4520-ebcf-68417e143c5e"
      },
      "execution_count": 19,
      "outputs": [
        {
          "output_type": "stream",
          "name": "stdout",
          "text": [
            "Жінки найчастіше купують: Fashion accessories\n",
            "Чоловіки найчастіше купують: Health and beauty\n"
          ]
        }
      ]
    },
    {
      "cell_type": "code",
      "source": [
        "# Групуємо за містом і статтю, рахуємо кількість інвойсів\n",
        "gender_city_counts = df.groupby(['City', 'Gender'])['Invoice ID'].count().unstack()\n",
        "print(gender_city_counts)"
      ],
      "metadata": {
        "colab": {
          "base_uri": "https://localhost:8080/"
        },
        "id": "l_EKOQ6vXXsq",
        "outputId": "2bb26db9-6d22-4ae8-cbef-4ced3af264a3"
      },
      "execution_count": 11,
      "outputs": [
        {
          "output_type": "stream",
          "name": "stdout",
          "text": [
            "Gender     Female  Male\n",
            "City                   \n",
            "Mandalay      162   170\n",
            "Naypyitaw     178   150\n",
            "Yangon        161   179\n"
          ]
        }
      ]
    },
    {
      "cell_type": "markdown",
      "source": [
        "в містах де переважають чоловіки доречно збільшити асортимент товарів, яким чоловіки віддають перевагу і навпаки"
      ],
      "metadata": {
        "id": "uvTWL2CUXyru"
      }
    },
    {
      "cell_type": "code",
      "source": [
        "df['Weekday'] = df['Date'].dt.day_name()\n",
        "#  кількість покупок по днях тижня\n",
        "purchases_by_day = df['Weekday'].value_counts()\n",
        "print(purchases_by_day)"
      ],
      "metadata": {
        "colab": {
          "base_uri": "https://localhost:8080/"
        },
        "id": "dnEyeSAtYLcY",
        "outputId": "9b4a63c1-7abc-423d-e987-bf5adfc7ef79"
      },
      "execution_count": 14,
      "outputs": [
        {
          "output_type": "stream",
          "name": "stdout",
          "text": [
            "Weekday\n",
            "Saturday     164\n",
            "Tuesday      158\n",
            "Wednesday    143\n",
            "Friday       139\n",
            "Thursday     138\n",
            "Sunday       133\n",
            "Monday       125\n",
            "Name: count, dtype: int64\n"
          ]
        }
      ]
    },
    {
      "cell_type": "markdown",
      "source": [
        "очікувано найбільше покупок здійснюється в суботу. доречним буде в дні найбільшого ажіотажу збільшити кількість персоналу, щоб зменшити черги на касах і покращити сервіс. у понеділок та неділю найменший попит, то можна для збільшення продажів застосувати якісь промо, наприклад спеціальні ціни чи знижки для пенсіонерів у ці дні, що тим самим можливо дасть змогу розгрузити більш завантажені на покупки дні"
      ],
      "metadata": {
        "id": "JNPCJ7fOZVcd"
      }
    },
    {
      "cell_type": "code",
      "source": [
        "avg_payment = df.groupby('Payment')['Total'].mean().sort_values(ascending=False)\n",
        "print(avg_payment)"
      ],
      "metadata": {
        "colab": {
          "base_uri": "https://localhost:8080/"
        },
        "id": "4u8-aPXEaNVB",
        "outputId": "dcc8dfe6-755f-4a0d-d2d4-b2da1b138d4d"
      },
      "execution_count": 18,
      "outputs": [
        {
          "output_type": "stream",
          "name": "stdout",
          "text": [
            "Payment\n",
            "Cash           326.181890\n",
            "Credit card    324.009878\n",
            "Ewallet        318.820600\n",
            "Name: Total, dtype: float64\n"
          ]
        }
      ]
    },
    {
      "cell_type": "markdown",
      "source": [
        "з аналізу видно, що покупці віддають перевагу готівці. отже в магазинах має бути достатня кількість касирів і завжди наявність решти, особливо мілких грошей. для стимулювання переходу покупців на безготівкові форми оплати можна запропонувати програму лояльності і додаткові кешбеки."
      ],
      "metadata": {
        "id": "PCpmKPe0bGpq"
      }
    }
  ]
}